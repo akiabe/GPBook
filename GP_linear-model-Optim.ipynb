{
 "cells": [
  {
   "cell_type": "code",
   "execution_count": 5,
   "id": "62ba906b",
   "metadata": {},
   "outputs": [
    {
     "name": "stdout",
     "output_type": "stream",
     "text": [
      "Epoch: 1, likelihood : -7.868949723982096, θ₁ :0.8366278297084455, θ₂ : 1.1118775389573887, θ₃: 0.7446620802970594\n",
      "Epoch: 2, likelihood : -5.5615061355164235, θ₁ :0.6562263079928039, θ₂ : 1.2261961886959183, θ₃: 0.40809361107045666\n",
      "Epoch: 3, likelihood : -1.71379335658488, θ₁ :0.44586797850487503, θ₂ : 1.3640998646766156, θ₃: -0.1399375651996248\n",
      "Epoch: 4, likelihood : 7.532625659644252, θ₁ :1.7007569724347285, θ₂ : 0.19375297306144978, θ₃: 4.717137459632823\n",
      "Epoch: 5, likelihood : -19.28276378946086, θ₁ :1.6282399094464037, θ₂ : 0.1937531356502066, θ₃: 4.644620396081278\n",
      "Epoch: 6, likelihood : -19.070183734987616, θ₁ :1.5541736928029979, θ₂ : 0.19375329859160453, θ₃: 4.5705541788482895\n",
      "Epoch: 7, likelihood : -18.848322860522384, θ₁ :1.478455876921499, θ₂ : 0.19375346173937494, θ₃: 4.494836362348328\n",
      "Epoch: 8, likelihood : -18.61634176148586, θ₁ :1.4009723033580843, θ₂ : 0.19375362491186826, θ₃: 4.417352788134675\n",
      "Epoch: 9, likelihood : -18.37328259619557, θ₁ :1.321595149696241, θ₂ : 0.19375378788297518, θ₃: 4.337975633787477\n",
      "Epoch: 10, likelihood : -18.118045843634654, θ₁ :1.2401805424194698, θ₂ : 0.19375395037026222, θ₃: 4.256561025786342\n"
     ]
    }
   ],
   "source": [
    "using ForwardDiff, LinearAlgebra\n",
    "\n",
    "# Gaussian kernel\n",
    "k(x₁, x₂, θ₁, θ₂, θ₃) = θ₁*exp(-0.5*inv(θ₂^2)*(x₁ - x₂)^2) + θ₃*(x₁==x₂)\n",
    "\n",
    "# Gradient function\n",
    "∂k∂θ₁(x₁, x₂, θ₁, θ₂, θ₃) = ForwardDiff.derivative(θ₁ -> k.(x₁, x₂, θ₁, θ₂, θ₃), θ₁)\n",
    "∂k∂θ₂(x₁, x₂, θ₁, θ₂, θ₃) = ForwardDiff.derivative(θ₂ -> k.(x₁, x₂, θ₁, θ₂, θ₃), θ₂)\n",
    "∂k∂θ₃(x₁, x₂, θ₁, θ₂, θ₃) = ForwardDiff.derivative(θ₃ -> k.(x₁, x₂, θ₁, θ₂, θ₃), θ₃)\n",
    "∂L∂θ(K, ∂K∂θ, Yᵗ) = -tr(inv(K)*∂K∂θ) + (inv(K)*Yᵗ)'*∂K∂θ*(inv(K)*Yᵗ)\n",
    "\n",
    "# Gaussian process\n",
    "function gp_reg(Xᵗ, Yᵗ, Xᵖ, θ₁, θ₂, θ₃)\n",
    "    # Training\n",
    "    Kᵗᵗ = k.(Xᵗ, Xᵗ', θ₁, θ₂, θ₃)\n",
    "    invKᵗᵗ = inv(Kᵗᵗ)\n",
    "    likelihood = -log(det(Kᵗᵗ)).- dot(Yᵗ', invKᵗᵗ, Yᵗ) \n",
    "    \n",
    "    # Prediction\n",
    "    Kᵖᵖ, Kᵖᵗ = (k.(Xᵖ, Xᵖ', θ₁, θ₂, θ₃), k.(Xᵖ, Xᵗ', θ₁, θ₂, θ₃))\n",
    "    μᵖ, Σᵖ = (Kᵖᵗ*invKᵗᵗ*Yᵗ, Kᵖᵖ - Kᵖᵗ*invKᵗᵗ*Kᵖᵗ')\n",
    "    \n",
    "    # Gradient\n",
    "    ∂K∂θ₁ = ∂k∂θ₁(Xᵗ, Xᵗ', θ₁, θ₂, θ₃)\n",
    "    ∂K∂θ₂ = ∂k∂θ₂(Xᵗ, Xᵗ', θ₁, θ₂, θ₃)\n",
    "    ∂K∂θ₃ = ∂k∂θ₃(Xᵗ, Xᵗ', θ₁, θ₂, θ₃)\n",
    "    \n",
    "    ∂L∂θ₁ = ∂L∂θ(Kᵗᵗ, ∂K∂θ₁, Yᵗ)\n",
    "    ∂L∂θ₂ = ∂L∂θ(Kᵗᵗ, ∂K∂θ₂, Yᵗ)\n",
    "    ∂L∂θ₃ = ∂L∂θ(Kᵗᵗ, ∂K∂θ₃, Yᵗ)\n",
    "    \n",
    "    likelihood, μᵖ, Σᵖ, ∂K∂θ₁, ∂K∂θ₂, ∂K∂θ₃, ∂L∂θ₁, ∂L∂θ₂, ∂L∂θ₃ \n",
    "end\n",
    "\n",
    "# Train dataset\n",
    "Xᵗ = range(-5, 5, length=10)\n",
    "Yᵗ = sin.(2pi*Xᵗ ./10) + 0.1*randn(10)\n",
    "\n",
    "# Test dataset\n",
    "Xᵖ = range(-8, 8, length=100)\n",
    "\n",
    "# Parameters\n",
    "θ₁, θ₂, θ₃ = (1.0, 1.0, 1.0)\n",
    "γ = 0.05\n",
    "\n",
    "for i in 1:10\n",
    "    likelihood, μᵖ, Σᵖ, ∂K∂θ₁, ∂K∂θ₂, ∂K∂θ₃, ∂L∂θ₁, ∂L∂θ₂, ∂L∂θ₃ = gp_reg(Xᵗ, Yᵗ, Xᵖ, θ₁, θ₂, θ₃)\n",
    "    θ₁ += γ * ∂L∂θ₁\n",
    "    θ₂ += γ * ∂L∂θ₂\n",
    "    θ₃ += γ * ∂L∂θ₃\n",
    "    println(\"Epoch: $i, likelihood : $likelihood, θ₁ :$θ₁, θ₂ : $θ₂, θ₃: $θ₃\")\n",
    "end"
   ]
  }
 ],
 "metadata": {
  "kernelspec": {
   "display_name": "Julia 1.5.3",
   "language": "julia",
   "name": "julia-1.5"
  },
  "language_info": {
   "file_extension": ".jl",
   "mimetype": "application/julia",
   "name": "julia",
   "version": "1.5.3"
  }
 },
 "nbformat": 4,
 "nbformat_minor": 5
}
